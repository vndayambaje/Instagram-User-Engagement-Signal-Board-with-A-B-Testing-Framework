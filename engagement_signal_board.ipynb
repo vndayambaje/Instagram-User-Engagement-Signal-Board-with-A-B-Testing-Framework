{
 "cells": [
  {
   "cell_type": "markdown",
   "metadata": {},
   "source": [
    "# Project Overview\n",
    "The goal of this project is to create an engagement signal board to track key user interaction metrics on Instagram, such as Engagement Score and Content Virality Index. Additionally, an A/B testing framework will be implemented to evaluate the impact of new features on user engagement, allowing data-driven decisions for product targeting and retention strategies."
   ]
  },
  {
   "cell_type": "markdown",
   "metadata": {},
   "source": [
    "## Step 1: Importing Libraries"
   ]
  },
  {
   "cell_type": "markdown",
   "metadata": {},
   "source": [
    "- **Pandas and NumPy** : For data manipulation and numerical operations.\n",
    "- **Matplotlib and Seaborn** : For creating visualizations to show engagement metrics.\n",
    "- **scipy.stats.ttest_ind** : For performing A/B testing with statistical significance.\n",
    "- **TensorFlow** : For setting up a simple model to predict engagement.\n",
    "- **scikit-learn’s mean_squared_error** : To evaluate the model’s performance."
   ]
  },
  {
   "cell_type": "code",
   "execution_count": 10,
   "metadata": {},
   "outputs": [],
   "source": [
    "%%capture\n",
    "! pip install tensorflow\n",
    "import pandas as pd\n",
    "import numpy as np\n",
    "import matplotlib.pyplot as plt\n",
    "import seaborn as sns\n",
    "from scipy.stats import ttest_ind\n",
    "import tensorflow as tf\n",
    "from sklearn.metrics import mean_squared_error\n"
   ]
  },
  {
   "cell_type": "markdown",
   "metadata": {},
   "source": [
    "## Step 2: Loading data into DataFrame"
   ]
  },
  {
   "cell_type": "code",
   "execution_count": 17,
   "metadata": {},
   "outputs": [],
   "source": [
    "\n",
    "comments = pd.read_csv('~/github/instagram-engagement/comments.csv')\n",
    "follows = pd.read_csv('~/github/instagram-engagement/follows.csv')\n",
    "likes = pd.read_csv('~/github/instagram-engagement/likes.csv')\n",
    "photo_tags = pd.read_csv('~/github/instagram-engagement/photo_tags.csv')\n",
    "photos = pd.read_csv('~/github/instagram-engagement/photos.csv')\n",
    "tags = pd.read_csv('~/github/instagram-engagement/tags.csv')\n",
    "users = pd.read_csv('~/github/instagram-engagement/users.csv')"
   ]
  },
  {
   "cell_type": "markdown",
   "metadata": {},
   "source": [
    "## Step 3: Data Exploration and Cleaning"
   ]
  },
  {
   "cell_type": "code",
   "execution_count": 39,
   "metadata": {},
   "outputs": [
    {
     "name": "stdout",
     "output_type": "stream",
     "text": [
      "==============================\n",
      "Comments table total na count :\n",
      "==============================\n",
      "id              0\n",
      "comment_text    0\n",
      "user_id         0\n",
      "photo_id        0\n",
      "created_at      0\n",
      "dtype: int64\n",
      "==============================\n",
      "follows table total na count :\n",
      "==============================\n",
      "follower_id    0\n",
      "followee_id    0\n",
      "created_at     0\n",
      "dtype: int64\n",
      "==============================\n",
      "likes table total na count :\n",
      "==============================\n",
      "user_id       0\n",
      "photo_id      0\n",
      "created_at    0\n",
      "dtype: int64\n",
      "==============================\n",
      "photo_tags table total na count :\n",
      "==============================\n",
      "photo_id    0\n",
      "tag_id      0\n",
      "dtype: int64\n",
      "==============================\n",
      "photos table total na count :\n",
      "==============================\n",
      "id             0\n",
      "image_url      0\n",
      "user_id        0\n",
      "created_dat    0\n",
      "dtype: int64\n",
      "==============================\n",
      "Tags table total na count :\n",
      "==============================\n",
      "id            0\n",
      "tag_name      0\n",
      "created_at    0\n",
      "dtype: int64\n",
      "==============================\n",
      "users table total na count :\n",
      "==============================\n",
      "id            0\n",
      "username      0\n",
      "created_at    0\n",
      "dtype: int64\n"
     ]
    }
   ],
   "source": [
    "print(\"=\"*30)\n",
    "print(f\"Comments table total na count :\\n{'='*30}\\n{comments.isna().sum()}\")\n",
    "print(\"=\"*30)\n",
    "print(f\"follows table total na count :\\n{'='*30}\\n{follows.isna().sum()}\")\n",
    "print(\"=\"*30)\n",
    "print(f\"likes table total na count :\\n{'='*30}\\n{likes.isna().sum()}\")\n",
    "print(\"=\"*30)\n",
    "print(f\"photo_tags table total na count :\\n{'='*30}\\n{photo_tags.isna().sum()}\")\n",
    "print(\"=\"*30)\n",
    "print(f\"photos table total na count :\\n{'='*30}\\n{photos.isna().sum()}\")\n",
    "print(\"=\"*30)\n",
    "print(f\"Tags table total na count :\\n{'='*30}\\n{tags.isna().sum()}\")\n",
    "print(\"=\"*30)\n",
    "print(f\"users table total na count :\\n{'='*30}\\n{users.isna().sum()}\")"
   ]
  },
  {
   "cell_type": "code",
   "execution_count": 40,
   "metadata": {},
   "outputs": [
    {
     "name": "stdout",
     "output_type": "stream",
     "text": [
      "<class 'pandas.core.frame.DataFrame'>\n",
      "RangeIndex: 1000 entries, 0 to 999\n",
      "Data columns (total 5 columns):\n",
      " #   Column        Non-Null Count  Dtype \n",
      "---  ------        --------------  ----- \n",
      " 0   id            1000 non-null   int64 \n",
      " 1   comment_text  1000 non-null   object\n",
      " 2   user_id       1000 non-null   int64 \n",
      " 3   photo_id      1000 non-null   int64 \n",
      " 4   created_at    1000 non-null   object\n",
      "dtypes: int64(3), object(2)\n",
      "memory usage: 39.2+ KB\n",
      "Comments Data: None\n",
      "<class 'pandas.core.frame.DataFrame'>\n",
      "RangeIndex: 1000 entries, 0 to 999\n",
      "Data columns (total 3 columns):\n",
      " #   Column       Non-Null Count  Dtype \n",
      "---  ------       --------------  ----- \n",
      " 0   follower_id  1000 non-null   int64 \n",
      " 1   followee_id  1000 non-null   int64 \n",
      " 2   created_at   1000 non-null   object\n",
      "dtypes: int64(2), object(1)\n",
      "memory usage: 23.6+ KB\n",
      "Follows Data: None\n",
      "<class 'pandas.core.frame.DataFrame'>\n",
      "RangeIndex: 1000 entries, 0 to 999\n",
      "Data columns (total 3 columns):\n",
      " #   Column      Non-Null Count  Dtype \n",
      "---  ------      --------------  ----- \n",
      " 0   user_id     1000 non-null   int64 \n",
      " 1   photo_id    1000 non-null   int64 \n",
      " 2   created_at  1000 non-null   object\n",
      "dtypes: int64(2), object(1)\n",
      "memory usage: 23.6+ KB\n",
      "Likes Data: None\n",
      "<class 'pandas.core.frame.DataFrame'>\n",
      "RangeIndex: 501 entries, 0 to 500\n",
      "Data columns (total 2 columns):\n",
      " #   Column    Non-Null Count  Dtype\n",
      "---  ------    --------------  -----\n",
      " 0   photo_id  501 non-null    int64\n",
      " 1   tag_id    501 non-null    int64\n",
      "dtypes: int64(2)\n",
      "memory usage: 8.0 KB\n",
      "Photo Tags Data: None\n",
      "<class 'pandas.core.frame.DataFrame'>\n",
      "RangeIndex: 257 entries, 0 to 256\n",
      "Data columns (total 4 columns):\n",
      " #   Column       Non-Null Count  Dtype \n",
      "---  ------       --------------  ----- \n",
      " 0   id           257 non-null    int64 \n",
      " 1   image_url    257 non-null    object\n",
      " 2   user_id      257 non-null    int64 \n",
      " 3   created_dat  257 non-null    object\n",
      "dtypes: int64(2), object(2)\n",
      "memory usage: 8.2+ KB\n",
      "Photos Data: None\n",
      "<class 'pandas.core.frame.DataFrame'>\n",
      "RangeIndex: 21 entries, 0 to 20\n",
      "Data columns (total 3 columns):\n",
      " #   Column      Non-Null Count  Dtype \n",
      "---  ------      --------------  ----- \n",
      " 0   id          21 non-null     int64 \n",
      " 1   tag_name    21 non-null     object\n",
      " 2   created_at  21 non-null     object\n",
      "dtypes: int64(1), object(2)\n",
      "memory usage: 636.0+ bytes\n",
      "Tags Data: None\n",
      "<class 'pandas.core.frame.DataFrame'>\n",
      "RangeIndex: 100 entries, 0 to 99\n",
      "Data columns (total 3 columns):\n",
      " #   Column      Non-Null Count  Dtype \n",
      "---  ------      --------------  ----- \n",
      " 0   id          100 non-null    int64 \n",
      " 1   username    100 non-null    object\n",
      " 2   created_at  100 non-null    object\n",
      "dtypes: int64(1), object(2)\n",
      "memory usage: 2.5+ KB\n",
      "Users Data: None\n"
     ]
    }
   ],
   "source": [
    "# Display basic info for each DataFrame\n",
    "print(\"Comments Data:\", comments.info())\n",
    "print(\"Follows Data:\", follows.info())\n",
    "print(\"Likes Data:\", likes.info())\n",
    "print(\"Photo Tags Data:\", photo_tags.info())\n",
    "print(\"Photos Data:\", photos.info())\n",
    "print(\"Tags Data:\", tags.info())\n",
    "print(\"Users Data:\", users.info())"
   ]
  },
  {
   "cell_type": "markdown",
   "metadata": {},
   "source": []
  }
 ],
 "metadata": {
  "kernelspec": {
   "display_name": "base",
   "language": "python",
   "name": "python3"
  },
  "language_info": {
   "codemirror_mode": {
    "name": "ipython",
    "version": 3
   },
   "file_extension": ".py",
   "mimetype": "text/x-python",
   "name": "python",
   "nbconvert_exporter": "python",
   "pygments_lexer": "ipython3",
   "version": "3.11.9"
  }
 },
 "nbformat": 4,
 "nbformat_minor": 2
}
